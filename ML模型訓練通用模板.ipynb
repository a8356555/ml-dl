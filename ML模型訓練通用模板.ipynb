{
  "nbformat": 4,
  "nbformat_minor": 0,
  "metadata": {
    "colab": {
      "name": "ML模型訓練通用模板.ipynb",
      "provenance": []
    },
    "kernelspec": {
      "name": "python3",
      "display_name": "Python 3"
    }
  },
  "cells": [
    {
      "cell_type": "markdown",
      "metadata": {
        "id": "bbpJCUyDzVA7"
      },
      "source": [
        "Step 1. Load Data\r\n",
        "def load_data():\r\n",
        "  '''\r\n",
        "  取得\r\n",
        "  '''\r\n",
        "  return features, labels\r\n",
        "features, labels = load_data()"
      ]
    },
    {
      "cell_type": "code",
      "metadata": {
        "id": "La62eKOmlsmn"
      },
      "source": [
        "def load_data():\r\n",
        "  '''\r\n",
        "  取得  \r\n",
        "  '''\r\n",
        "  return features, labels\r\n",
        "features, labels = load_data()"
      ],
      "execution_count": null,
      "outputs": []
    },
    {
      "cell_type": "markdown",
      "metadata": {
        "id": "1ouiDvdRzZM6"
      },
      "source": [
        "Step 2. Preprocess For Model Selection"
      ]
    },
    {
      "cell_type": "code",
      "metadata": {
        "id": "rWRG3aVRl59S",
        "colab": {
          "base_uri": "https://localhost:8080/",
          "height": 232
        },
        "outputId": "cee73471-cf02-41c4-cf74-b17c7602f589"
      },
      "source": [
        "from sklearn.model_selection import  train_test_split\r\n",
        "from sklearn.preprocessing import StandardScaler\r\n",
        "# test_tize_ratio = 0.2\r\n",
        "# random_state = 0\r\n",
        "X_train, X_test, y_\r\n",
        "train, y_test = train_test_split(features, labels, \r\n",
        "                                                    test_size = test_size_ratio, \r\n",
        "                                                    random_state = random_state)\r\n",
        "sc = StandardScaler()\r\n",
        "sc.fit(X_train)\r\n",
        "X_train_std = sc.transform(X_train)\r\n",
        "X_test_std = sc.transform(X_test)\r\n",
        "# ...other preprocessing skills.."
      ],
      "execution_count": null,
      "outputs": [
        {
          "output_type": "error",
          "ename": "NameError",
          "evalue": "ignored",
          "traceback": [
            "\u001b[0;31m---------------------------------------------------------------------------\u001b[0m",
            "\u001b[0;31mNameError\u001b[0m                                 Traceback (most recent call last)",
            "\u001b[0;32m<ipython-input-1-9f5e3275637c>\u001b[0m in \u001b[0;36m<module>\u001b[0;34m()\u001b[0m\n\u001b[1;32m      3\u001b[0m \u001b[0;31m# test_tize_ratio = 0.2\u001b[0m\u001b[0;34m\u001b[0m\u001b[0;34m\u001b[0m\u001b[0;34m\u001b[0m\u001b[0m\n\u001b[1;32m      4\u001b[0m \u001b[0;31m# random_state = 0\u001b[0m\u001b[0;34m\u001b[0m\u001b[0;34m\u001b[0m\u001b[0;34m\u001b[0m\u001b[0m\n\u001b[0;32m----> 5\u001b[0;31m \u001b[0mX_train\u001b[0m\u001b[0;34m,\u001b[0m \u001b[0mX_test\u001b[0m\u001b[0;34m,\u001b[0m \u001b[0my_\u001b[0m\u001b[0;34m\u001b[0m\u001b[0;34m\u001b[0m\u001b[0m\n\u001b[0m\u001b[1;32m      6\u001b[0m train, y_test = train_test_split(features, labels, \n\u001b[1;32m      7\u001b[0m                                                     \u001b[0mtest_size\u001b[0m \u001b[0;34m=\u001b[0m \u001b[0mtest_size_ratio\u001b[0m\u001b[0;34m,\u001b[0m\u001b[0;34m\u001b[0m\u001b[0;34m\u001b[0m\u001b[0m\n",
            "\u001b[0;31mNameError\u001b[0m: name 'X_train' is not defined"
          ]
        }
      ]
    },
    {
      "cell_type": "markdown",
      "metadata": {
        "id": "hUsvjntG1cRx"
      },
      "source": [
        "Step 3. Build Models"
      ]
    },
    {
      "cell_type": "code",
      "metadata": {
        "id": "uJuiCb-Vl_TY",
        "colab": {
          "base_uri": "https://localhost:8080/",
          "height": 215
        },
        "outputId": "37a844d0-67f1-4d77-f1d9-131e42f2ac43"
      },
      "source": [
        "from sklearn.linear_model import LogisticRegression\r\n",
        "lr = LogisticRegression()\r\n",
        "lr.fit(X_train_std, y_train)\r\n",
        "# model2, 3, 4..."
      ],
      "execution_count": null,
      "outputs": [
        {
          "output_type": "error",
          "ename": "AttributeError",
          "evalue": "ignored",
          "traceback": [
            "\u001b[0;31m---------------------------------------------------------------------------\u001b[0m",
            "\u001b[0;31mAttributeError\u001b[0m                            Traceback (most recent call last)",
            "\u001b[0;32m<ipython-input-2-1347b9faba4c>\u001b[0m in \u001b[0;36m<module>\u001b[0;34m()\u001b[0m\n\u001b[1;32m      1\u001b[0m \u001b[0;32mfrom\u001b[0m \u001b[0msklearn\u001b[0m\u001b[0;34m.\u001b[0m\u001b[0mlinear_model\u001b[0m \u001b[0;32mimport\u001b[0m \u001b[0mLogisticRegression\u001b[0m\u001b[0;34m\u001b[0m\u001b[0;34m\u001b[0m\u001b[0m\n\u001b[1;32m      2\u001b[0m \u001b[0mlr\u001b[0m \u001b[0;34m=\u001b[0m \u001b[0mLogisticRegression\u001b[0m\u001b[0;34m(\u001b[0m\u001b[0;34m)\u001b[0m\u001b[0;34m\u001b[0m\u001b[0;34m\u001b[0m\u001b[0m\n\u001b[0;32m----> 3\u001b[0;31m \u001b[0mlr\u001b[0m\u001b[0;34m.\u001b[0m\u001b[0mfir\u001b[0m\u001b[0;34m(\u001b[0m\u001b[0mX_train_std\u001b[0m\u001b[0;34m,\u001b[0m \u001b[0my_train\u001b[0m\u001b[0;34m)\u001b[0m\u001b[0;34m\u001b[0m\u001b[0;34m\u001b[0m\u001b[0m\n\u001b[0m\u001b[1;32m      4\u001b[0m \u001b[0;31m# model2, 3, 4...\u001b[0m\u001b[0;34m\u001b[0m\u001b[0;34m\u001b[0m\u001b[0;34m\u001b[0m\u001b[0m\n",
            "\u001b[0;31mAttributeError\u001b[0m: 'LogisticRegression' object has no attribute 'fir'"
          ]
        }
      ]
    },
    {
      "cell_type": "markdown",
      "metadata": {
        "id": "D58QzqG02AdB"
      },
      "source": [
        "Step 4. Compare Model Performance"
      ]
    },
    {
      "cell_type": "code",
      "metadata": {
        "id": "gNFp6STX2hPx"
      },
      "source": [
        "class Model():\r\n",
        "  def __init__(self, model, name):\r\n",
        "    self.model = model\r\n",
        "    self.name = name\r\n",
        "\r\n",
        "  def train(self, X_train, y_train):\r\n",
        "    self.model.fit(X_train, y_train)\r\n",
        "\r\n",
        "  def predict(self, X_test):\r\n",
        "    return self.model.predict(X_test)\r\n",
        "\r\n",
        "  def accuracy(pred_labels, true_labels):\r\n",
        "    '''\r\n",
        "    compare \r\n",
        "    '''\r\n",
        "    pred_labels = np.array(pred_labels)\r\n",
        "    true_labels = np.array(true_labels)\r\n",
        "    amount =  true.size  \r\n",
        "    return (pred_labels == true_labels).sum() / amount\r\n",
        "\r\n",
        "  def pipeline(self, X_train, y_train, X_test, y_test):\r\n",
        "    self.train(X_train, y_train)\r\n",
        "    predictions = self.predict(X_test)\r\n",
        "    \r\n"
      ],
      "execution_count": null,
      "outputs": []
    },
    {
      "cell_type": "code",
      "metadata": {
        "id": "YfxVZYxQ2ICX"
      },
      "source": [
        "model1_lr_predictions = lr.predict(X_test_std)\r\n",
        "model1_score = accuracy(model1_lr_predictions, y_test)\r\n",
        "# model2, 3 ..."
      ],
      "execution_count": null,
      "outputs": []
    },
    {
      "cell_type": "markdown",
      "metadata": {
        "id": "DFE4vvwPahTP"
      },
      "source": [
        "Step 5. Fine Tune Model\r\n",
        "* grid_search"
      ]
    }
  ]
}